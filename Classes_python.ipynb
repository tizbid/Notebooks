{
  "nbformat": 4,
  "nbformat_minor": 0,
  "metadata": {
    "colab": {
      "name": "Classes_python.ipynb",
      "provenance": [],
      "collapsed_sections": [],
      "authorship_tag": "ABX9TyOYsYATQmcLLiFkJRYBKffx"
    },
    "kernelspec": {
      "name": "python3",
      "display_name": "Python 3"
    }
  },
  "cells": [
    {
      "cell_type": "markdown",
      "metadata": {
        "id": "Qs52Hf4OxNAi",
        "colab_type": "text"
      },
      "source": [
        ""
      ]
    },
    {
      "cell_type": "code",
      "metadata": {
        "id": "CAyKhrYrS6XZ",
        "colab_type": "code",
        "colab": {}
      },
      "source": [
        "# Create class: DataShell\n",
        "class DataShell:\n",
        "    \n",
        "\t# Initialize class with self and dataList as arguments\n",
        "    def __init__(self, dataList_1,dataList_2):\n",
        "      \t# Set data as instance variable, and assign it the value of dataList\n",
        "        self.data_1= dataList_1\n",
        "        self.data_2= dataList_2\n",
        "        \n",
        "\t# Define class method which takes self argument: show\n",
        "    def show(self):\n",
        "        # Print the instance variable data\n",
        "        print(self.data_1,'\\n',self.data_2)\n",
        "    def add_list(self):\n",
        "        #Add list variables\n",
        "        print(self.data_1 + self.data_2)\n",
        "# Declare variable with list of integers from 1 to 10: integer_list   \n",
        "integer_list = [1, 2, 3, 4, 5, 6, 7, 8, 9, 10]\n",
        "new_list = [ 6, 7, 8, 9, 10]       \n",
        "# Instantiate DataShell taking integer_list as argument: my_data_shell\n",
        "my_data_shell = DataShell(integer_list,new_list)\n",
        "\n",
        "# Call the show method of your newly created object\n",
        "my_data_shell.show()\n",
        "my_data_shell.add_list()"
      ],
      "execution_count": 0,
      "outputs": []
    },
    {
      "cell_type": "markdown",
      "metadata": {
        "id": "hyAR7pM5xq3-",
        "colab_type": "text"
      },
      "source": [
        "A class object that\n",
        "\n",
        "\n",
        "\n",
        "1.  reads a csv file\n",
        "2.  Assign the  file to a \"df\" variable\n",
        "\n"
      ]
    },
    {
      "cell_type": "code",
      "metadata": {
        "id": "yImBeJA2xHAU",
        "colab_type": "code",
        "colab": {}
      },
      "source": [
        "# Load numpy as np and pandas as pd\n",
        "import numpy as np\n",
        "import pandas as pd\n",
        "\n",
        "# Create class: DataShell\n",
        "class DataShell:\n",
        "  \n",
        "    # Initialize class with self and inputFile\n",
        "    def __init__(self, inputFile):\n",
        "        self.file = inputFile\n",
        "        \n",
        "    # Define generate_csv method, with self argument\n",
        "    def generate_csv(self):\n",
        "        self.data_as_csv = pd.read_csv(self.file)\n",
        "        return self.data_as_csv\n",
        "\n",
        "# Instantiate DataShell with us_life_expectancy as input argument\n",
        "data_shell = DataShell(\"/content/sample_data/california_housing_test.csv\")\n",
        "\n",
        "# Call data_shell's generate_csv method, assign it to df\n",
        "df = data_shell.generate_csv()\n",
        "\n",
        "# Print df\n",
        "print(df)"
      ],
      "execution_count": 0,
      "outputs": []
    },
    {
      "cell_type": "markdown",
      "metadata": {
        "id": "3xSJB73N3uX4",
        "colab_type": "text"
      },
      "source": [
        "Storing data as instance variables allows you to use class methods directly on them"
      ]
    },
    {
      "cell_type": "code",
      "metadata": {
        "id": "78iN8Qxd3TeS",
        "colab_type": "code",
        "colab": {}
      },
      "source": [
        "# Import numpy as np, pandas as pd\n",
        "import numpy as np\n",
        "import pandas as pd\n",
        "\n",
        "# Create class: DataShell\n",
        "class DataShell:\n",
        "  \n",
        "    # Define initialization method\n",
        "    def __init__(self, filepath):\n",
        "        # Set filepath as instance variable  \n",
        "        self.filepath = filepath\n",
        "        # Set data_as_csv as instance variable\n",
        "        self.data_as_csv = pd.read_csv(filepath)\n",
        "        \n",
        "\n",
        "# Instantiate DataShell as us_data_shell\n",
        "us_data_shell = DataShell(\"/content/sample_data/california_housing_test.csv\")\n",
        "\n",
        "# Print your object's data_as_csv attribute\n",
        "print(us_data_shell.data_as_csv)"
      ],
      "execution_count": 0,
      "outputs": []
    },
    {
      "cell_type": "markdown",
      "metadata": {
        "id": "UEx713j8_4ei",
        "colab_type": "text"
      },
      "source": [
        "A class object that:\n",
        "\n",
        "\n",
        "*   Loads a csv\n",
        "*   contains a method that renames columns\n",
        "*   contains a method that decribes the csv file\n",
        "\n",
        "\n",
        "\n",
        "\n"
      ]
    },
    {
      "cell_type": "code",
      "metadata": {
        "id": "oKONggo98zGo",
        "colab_type": "code",
        "colab": {}
      },
      "source": [
        "# Create class DataShell\n",
        "class DataShell:\n",
        "\n",
        "    # Define initialization method\n",
        "    def __init__(self, filepath):\n",
        "        self.filepath = filepath\n",
        "        self.data_as_csv = pd.read_csv(filepath)\n",
        "\n",
        "    # Define method rename_column, with arguments self, column_name, and new_column_name\n",
        "    def rename_column(self, column_name, new_column_name):\n",
        "        self.data_as_csv.columns = self.data_as_csv.columns.str.replace(column_name, new_column_name)\n",
        "        \n",
        "    # Define get_stats method, with argument self\n",
        "    def get_stats(self):\n",
        "        # Return a description data_as_csv\n",
        "        return self.data_as_csv.describe()\n",
        "    \n",
        "# Instantiate DataShell as us_data_shell\n",
        "us_data_shell = DataShell(\"/content/sample_data/california_housing_test.csv\")\n",
        "\n",
        "# Print the output of your objects get_stats method\n",
        "print(us_data_shell.get_stats())\n",
        "\n"
      ],
      "execution_count": 0,
      "outputs": []
    },
    {
      "cell_type": "markdown",
      "metadata": {
        "id": "fPdKvp-QGtcF",
        "colab_type": "text"
      },
      "source": [
        "Exercise on Class inheritance\n",
        "\n"
      ]
    },
    {
      "cell_type": "code",
      "metadata": {
        "id": "gHbJRu6_Gy0H",
        "colab_type": "code",
        "colab": {}
      },
      "source": [
        "# Create a class Animal\n",
        "class Animal:\n",
        "\tdef __init__(self, name):\n",
        "\t\tself.name = name\n",
        "\n",
        "# Create a class Mammal, which inherits from Animal\n",
        "class Mammal(Animal):\n",
        "\tdef __init__(self, name, animal_type):\n",
        "\t\tself.animal_type = animal_type\n",
        "\n",
        "# Create a class Reptile, which also inherits from Animal\n",
        "class Reptile(Animal):\n",
        "\tdef __init__(self, name, animal_type):\n",
        "\t\tself.animal_type = animal_type\n",
        "\n",
        "# Instantiate a mammal with name 'Daisy' and animal_type 'dog': daisy\n",
        "daisy = Mammal('Daisy', 'dog')\n",
        "\n",
        "# Instantiate a reptile with name 'Stella' and animal_type 'alligator': stella\n",
        "stella = Reptile('Stella', 'alligator')\n",
        "\n",
        "# Print both objects\n",
        "print(daisy)\n",
        "print(stella)"
      ],
      "execution_count": 0,
      "outputs": []
    },
    {
      "cell_type": "markdown",
      "metadata": {
        "id": "E_RCP58HLdYk",
        "colab_type": "text"
      },
      "source": [
        "Polymorphism in classes"
      ]
    },
    {
      "cell_type": "code",
      "metadata": {
        "id": "r2lIW0GfLh7I",
        "colab_type": "code",
        "colab": {}
      },
      "source": [
        "# Create a class Vertebrate\n",
        "class Vertebrate:\n",
        "    spinal_cord = True\n",
        "    def __init__(self, name):\n",
        "        self.name = name\n",
        "\n",
        "# Create a class Mammal, which inherits from Vertebrate\n",
        "class Mammal(Vertebrate):\n",
        "    def __init__(self, name, animal_type):\n",
        "        self.animal_type = animal_type\n",
        "        self.temperature_regulation = True\n",
        "\n",
        "# Create a class Reptile, which also inherits from Vertebrate\n",
        "class Reptile(Vertebrate):\n",
        "    def __init__(self, name, animal_type):\n",
        "        self.animal_type = animal_type\n",
        "        self.temperature_regulation = False\n",
        "\n",
        "# Instantiate a mammal with name 'Daisy' and animal_type 'dog': daisy\n",
        "daisy = Mammal('Daisy', 'dog')\n",
        "\n",
        "# Instantiate a reptile with name 'Stella' and animal_type 'alligator': stella\n",
        "stella = Reptile('Stella', 'alligator')\n",
        "\n",
        "# Print stella's attributes spinal_cord and temperature_regulation\n",
        "print(\"Stella Spinal cord: \" + str(stella.spinal_cord))\n",
        "print(\"Stella temperature regulation: \" + str(stella.temperature_regulation))\n",
        "\n",
        "# Print daisy's attributes spinal_cord and temperature_regulation\n",
        "print(\"Daisy Spinal cord: \" + str(daisy.spinal_cord))\n",
        "print(\"Daisy temperature regulation: \" + str(daisy.temperature_regulation))"
      ],
      "execution_count": 0,
      "outputs": []
    },
    {
      "cell_type": "code",
      "metadata": {
        "id": "t2k6foD7OFMx",
        "colab_type": "code",
        "outputId": "1fb7b8cc-c5ec-4abb-97b0-0c5b832c1e59",
        "colab": {
          "base_uri": "https://localhost:8080/",
          "height": 35
        }
      },
      "source": [
        "# Load numpy as np and pandas as pd\n",
        "import numpy as np\n",
        "import pandas as pd\n",
        "\n",
        "# Create class: DataShell\n",
        "class DataShell:\n",
        "    def __init__(self,inputFile):\n",
        "        self.inputFile = inputFile\n",
        "\n",
        "# Instantiate DataShell as my_data_shell\n",
        "my_data_shell = DataShell(\"/content/sample_data/california_housing_test.csv\")\n",
        "\n",
        "# Print my_data_shell\n",
        "print(my_data_shell)"
      ],
      "execution_count": 0,
      "outputs": [
        {
          "output_type": "stream",
          "text": [
            "<__main__.DataShell object at 0x7f0d0ce21518>\n"
          ],
          "name": "stdout"
        }
      ]
    },
    {
      "cell_type": "markdown",
      "metadata": {
        "id": "EtdJRjGbUw24",
        "colab_type": "text"
      },
      "source": [
        "In this exercise, we will combine inheritance and composition as we define a class that 1) inherits from another class, and 2) uses functionality from other classes"
      ]
    },
    {
      "cell_type": "code",
      "metadata": {
        "id": "bzKXCIJwUyoY",
        "colab_type": "code",
        "colab": {}
      },
      "source": [
        "# Define abstract class DataShell\n",
        "class DataShell:\n",
        "    # Class variable family\n",
        "    family = 'DataShell'\n",
        "    # Initialization method with arguments, and instance variables\n",
        "    def __init__(self, name, filepath): \n",
        "        self.name = name\n",
        "        self.filepath = filepath\n",
        "\n",
        "# Define class CsvDataShell      \n",
        "class CsvDataShell(DataShell):\n",
        "    # Initialization method with arguments self, name, filepath\n",
        "    def __init__(self, name, filepath):\n",
        "        # Instance variable data\n",
        "        self.data = pd.read_csv(filepath)\n",
        "        # Instance variable stats\n",
        "        self.stats = self.data.describe()\n",
        "\n",
        "# Instantiate CsvDataShell as us_data_shell\n",
        "us_data_shell = CsvDataShell(\"US\", \"/content/sample_data/california_housing_test.csv\")\n",
        "\n",
        "# Print us_data_shell.stats\n",
        "print(us_data_shell.stats)"
      ],
      "execution_count": 0,
      "outputs": []
    },
    {
      "cell_type": "code",
      "metadata": {
        "id": "j7u99Zi4Y2AI",
        "colab_type": "code",
        "outputId": "c78b16cb-42cd-426d-ed4a-d1076209b26a",
        "colab": {
          "base_uri": "https://localhost:8080/",
          "height": 328
        }
      },
      "source": [
        "# Define abstract class DataShell\n",
        "class DataShell:\n",
        "    family = 'DataShell'\n",
        "    def __init__(self, name, filepath): \n",
        "        self.name = name\n",
        "        self.filepath = filepath\n",
        "\n",
        "# Define class CsvDataShell\n",
        "class CsvDataShell(DataShell):\n",
        "    def __init__(self, name, filepath):\n",
        "        self.data = pd.read_csv(filepath)\n",
        "        self.stats = self.data.describe()\n",
        "\n",
        "# Define class TsvDataShell\n",
        "class TsvDataShell(DataShell):\n",
        "    # Initialization method with arguments self, name, filepath\n",
        "    def __init__(self, name, filepath):\n",
        "        # Instance variable data\n",
        "        self.data = pd.read_table(filepath)\n",
        "        # Instance variable stats\n",
        "        self.stats = self.data.describe()\n",
        "\n",
        "# Instantiate CsvDataShell as us_data_shell, print us_data_shell.stats\n",
        "us_data_shell = CsvDataShell(\"US\",\"/content/sample_data/california_housing_test.csv\")\n",
        "print(us_data_shell.stats)\n",
        "\n",
        "# Instantiate TsvDataShell as france_data_shell, print france_data_shell.stats\n",
        "france_data_shell = TsvDataShell(\"France\", \"/content/sample_data/california_housing_train.csv\")\n",
        "print(france_data_shell.stats)"
      ],
      "execution_count": 0,
      "outputs": [
        {
          "output_type": "stream",
          "text": [
            "         longitude    latitude  ...  median_income  median_house_value\n",
            "count  3000.000000  3000.00000  ...    3000.000000          3000.00000\n",
            "mean   -119.589200    35.63539  ...       3.807272        205846.27500\n",
            "std       1.994936     2.12967  ...       1.854512        113119.68747\n",
            "min    -124.180000    32.56000  ...       0.499900         22500.00000\n",
            "25%    -121.810000    33.93000  ...       2.544000        121200.00000\n",
            "50%    -118.485000    34.27000  ...       3.487150        177650.00000\n",
            "75%    -118.020000    37.69000  ...       4.656475        263975.00000\n",
            "max    -114.490000    41.92000  ...      15.000100        500001.00000\n",
            "\n",
            "[8 rows x 9 columns]\n",
            "       longitude,\"latitude\",\"housing_median_age\",\"total_rooms\",\"total_bedrooms\",\"population\",\"households\",\"median_income\",\"median_house_value\"\n",
            "count                                               17000                                                                                     \n",
            "unique                                              17000                                                                                     \n",
            "top     -120.660000,35.280000,31.000000,2773.000000,84...                                                                                     \n",
            "freq                                                    1                                                                                     \n"
          ],
          "name": "stdout"
        }
      ]
    },
    {
      "cell_type": "code",
      "metadata": {
        "id": "BzS-3bz93gvu",
        "colab_type": "code",
        "colab": {}
      },
      "source": [
        ""
      ],
      "execution_count": 0,
      "outputs": []
    }
  ]
}