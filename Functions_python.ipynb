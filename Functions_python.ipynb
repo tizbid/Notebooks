{
  "nbformat": 4,
  "nbformat_minor": 0,
  "metadata": {
    "colab": {
      "name": "Functions_python.ipynb",
      "provenance": [],
      "collapsed_sections": [],
      "authorship_tag": "ABX9TyNmskoOnc4AY81hgJUD5Hf0"
    },
    "kernelspec": {
      "name": "python3",
      "display_name": "Python 3"
    }
  },
  "cells": [
    {
      "cell_type": "markdown",
      "metadata": {
        "id": "D-fqZ9F-doAH",
        "colab_type": "text"
      },
      "source": [
        "Standard Docstring conventions in python"
      ]
    },
    {
      "cell_type": "code",
      "metadata": {
        "id": "Zbalqy6QasiP",
        "colab_type": "code",
        "colab": {}
      },
      "source": [
        "def count_letter():\n",
        "  \"\"\"Count the number of times `letter` appears in `content`.\n",
        "\n",
        "  Args:\n",
        "    content (str): The string to search.\n",
        "    letter (str): The letter to search for.\n",
        "\n",
        "  Returns:\n",
        "    int\n",
        "\n",
        "  # Add a section detailing what errors might be raised\n",
        "  Raises:\n",
        "    ValueError: If `letter` is not a one-character string.\n",
        "  \"\"\"\n",
        "  content = input('Enter a string:\\n')\n",
        "  letter = input('Enter a character:\\n')\n",
        "\n",
        "  if (not isinstance(letter, str)) or len(letter) != 1:\n",
        "    raise ValueError('`letter` must be a single character string.')\n",
        "  return len([char for char in content if char == letter])"
      ],
      "execution_count": 0,
      "outputs": []
    },
    {
      "cell_type": "code",
      "metadata": {
        "id": "OnS5rGFHecaT",
        "colab_type": "code",
        "outputId": "c71ef1f1-a224-4ac7-b72e-b85047d7e2b1",
        "colab": {
          "base_uri": "https://localhost:8080/",
          "height": 290
        }
      },
      "source": [
        "# Get the docstring with an attribute of count_letter()\n",
        "docstring = count_letter.__doc__\n",
        "\n",
        "border = '#' * 28\n",
        "print('{}\\n{}\\n{}'.format(border, docstring, border))"
      ],
      "execution_count": 0,
      "outputs": [
        {
          "output_type": "stream",
          "text": [
            "############################\n",
            "Count the number of times `letter` appears in `content`.\n",
            "\n",
            "  Args:\n",
            "    content (str): The string to search.\n",
            "    letter (str): The letter to search for.\n",
            "\n",
            "  Returns:\n",
            "    int\n",
            "\n",
            "  # Add a section detailing what errors might be raised\n",
            "  Raises:\n",
            "    ValueError: If `letter` is not a one-character string.\n",
            "  \n",
            "############################\n"
          ],
          "name": "stdout"
        }
      ]
    },
    {
      "cell_type": "code",
      "metadata": {
        "id": "INWgn20El4QW",
        "colab_type": "code",
        "outputId": "a00c9eb9-8b81-4fe4-8ee5-7de9426586bf",
        "colab": {
          "base_uri": "https://localhost:8080/",
          "height": 272
        }
      },
      "source": [
        "import inspect\n",
        "\n",
        "\n",
        "# Get the docstring with a function from the inspect module\n",
        "docstring = inspect.getdoc(count_letter)\n",
        "\n",
        "border = '#' * 28\n",
        "print('{}\\n{}\\n{}'.format(border, docstring, border))"
      ],
      "execution_count": 0,
      "outputs": [
        {
          "output_type": "stream",
          "text": [
            "############################\n",
            "Count the number of times `letter` appears in `content`.\n",
            "\n",
            "Args:\n",
            "  content (str): The string to search.\n",
            "  letter (str): The letter to search for.\n",
            "\n",
            "Returns:\n",
            "  int\n",
            "\n",
            "# Add a section detailing what errors might be raised\n",
            "Raises:\n",
            "  ValueError: If `letter` is not a one-character string.\n",
            "############################\n"
          ],
          "name": "stdout"
        }
      ]
    },
    {
      "cell_type": "code",
      "metadata": {
        "id": "2VKZ9Jptp-67",
        "colab_type": "code",
        "colab": {}
      },
      "source": [
        "def build_tooltip(function):\n",
        "  \"\"\"Create a tooltip for any function that shows the \n",
        "  function's docstring.\n",
        "  \n",
        "  Args:\n",
        "    function (callable): The function we want a tooltip for.\n",
        "    \n",
        "  Returns:\n",
        "    str\n",
        "  \"\"\"\n",
        "  # Use 'inspect' to get the docstring\n",
        "  docstring = inspect.getdoc(function)\n",
        "  border = '#' * 28\n",
        "  return '{}\\n{}\\n{}'.format(border, docstring, border)\n",
        "\n",
        "print(build_tooltip(count_letter))\n",
        "print(build_tooltip(range))\n",
        "print(build_tooltip(print))"
      ],
      "execution_count": 0,
      "outputs": []
    },
    {
      "cell_type": "markdown",
      "metadata": {
        "id": "wQW43vEQtpZw",
        "colab_type": "text"
      },
      "source": [
        "When you need to set a mutable variable as a default argument, always use None and then set the value in the body of the function. This prevents unexpected behavior like adding multiple columns if you call the function more than once."
      ]
    },
    {
      "cell_type": "code",
      "metadata": {
        "id": "UwuGBxFuQuBb",
        "colab_type": "code",
        "colab": {}
      },
      "source": [
        "# Use an immutable variable for the default argument \n",
        "def better_add_column(values, df= None):\n",
        "  \"\"\"Add a column of `values` to a DataFrame `df`.\n",
        "  The column will be named \"col_<n>\" where \"n\" is\n",
        "  the numerical index of the column.\n",
        "\n",
        "  Args:\n",
        "    values (iterable): The values of the new column\n",
        "    df (DataFrame, optional): The DataFrame to update.\n",
        "      If no DataFrame is passed, one is created by default.\n",
        "\n",
        "  Returns:\n",
        "    DataFrame\n",
        "  \"\"\"\n",
        "  # Update the function to create a default DataFrame\n",
        "  if df is None:\n",
        "    df = pandas.DataFrame()\n",
        "  df['col_{}'.format(len(df.columns))] = values\n",
        "  return df\n",
        "\n"
      ],
      "execution_count": 0,
      "outputs": []
    },
    {
      "cell_type": "markdown",
      "metadata": {
        "id": "I-gPf3ZFw-u0",
        "colab_type": "text"
      },
      "source": [
        "The three elements of a context manager are : a function definition, a yield statement, and the @contextlib.contextmanager decorator. context managers are useful if your code follows patterns such as connect:disconnect,change:reset,start:stop etc.\n",
        "\n",
        "\n",
        "*   a decorato\"@contextlib.contextmanager\" added above the function defination\n",
        "*   A yield satement is used to return control to the context.\n",
        "\n",
        "\n"
      ]
    },
    {
      "cell_type": "code",
      "metadata": {
        "id": "dR_80BLAVPtz",
        "colab_type": "code",
        "colab": {}
      },
      "source": [
        "# Add a decorator that will make timer() a context manager\n",
        "from contextlib import contextmanager\n",
        "@contextlib.contextmanager\n",
        "def timer():\n",
        "  \"\"\"Time the execution of a context block.\n",
        "\n",
        "  yields:\n",
        "    None\n",
        "  \"\"\"\n",
        "  start = time.time()\n",
        "  # Send control back to the context block\n",
        "  yield\n",
        "  end = time.time()\n",
        "  print('Elapsed: {:.2f}s'.format(end - start))\n",
        "\n",
        "with timer():\n",
        "  print('This should take approximately 0.25 seconds')\n",
        "  time.sleep(0.25)\n"
      ],
      "execution_count": 0,
      "outputs": []
    },
    {
      "cell_type": "markdown",
      "metadata": {
        "id": "SqtyN6uV1ezV",
        "colab_type": "text"
      },
      "source": [
        "A file  reader context manager program"
      ]
    },
    {
      "cell_type": "code",
      "metadata": {
        "id": "1JjeIQ_c1dow",
        "colab_type": "code",
        "outputId": "7ad25d30-51d5-4170-baef-259f4db779e9",
        "colab": {
          "base_uri": "https://localhost:8080/",
          "height": 244
        }
      },
      "source": [
        "from contextlib import contextmanager\n",
        "@contextlib.contextmanager\n",
        "def open_read_only(filename):\n",
        "  \"\"\"Open a file in read-only mode.\n",
        "\n",
        "  Args:\n",
        "    filename (str): The location of the file to read\n",
        "\n",
        "  Yields:\n",
        "    file object\n",
        "  \"\"\"\n",
        "  read_only_file = open(filename, mode='r')\n",
        "  # Yield read_only_file so it can be assigned to my_file\n",
        "  yield read_only_file\n",
        "  # Close read_only_file\n",
        "  read_only_file.close()\n",
        "\n",
        "with open_read_only('/content/sample_data/mnist_test.csv') as my_file:\n",
        "  print(my_file.read())"
      ],
      "execution_count": 0,
      "outputs": [
        {
          "output_type": "error",
          "ename": "NameError",
          "evalue": "ignored",
          "traceback": [
            "\u001b[0;31m---------------------------------------------------------------------------\u001b[0m",
            "\u001b[0;31mNameError\u001b[0m                                 Traceback (most recent call last)",
            "\u001b[0;32m<ipython-input-1-2182fb55a086>\u001b[0m in \u001b[0;36m<module>\u001b[0;34m()\u001b[0m\n\u001b[1;32m      1\u001b[0m \u001b[0;32mfrom\u001b[0m \u001b[0mcontextlib\u001b[0m \u001b[0;32mimport\u001b[0m \u001b[0mcontextmanager\u001b[0m\u001b[0;34m\u001b[0m\u001b[0;34m\u001b[0m\u001b[0m\n\u001b[0;32m----> 2\u001b[0;31m \u001b[0;34m@\u001b[0m\u001b[0mcontextlib\u001b[0m\u001b[0;34m.\u001b[0m\u001b[0mcontextmanager\u001b[0m\u001b[0;34m\u001b[0m\u001b[0;34m\u001b[0m\u001b[0m\n\u001b[0m\u001b[1;32m      3\u001b[0m \u001b[0;32mdef\u001b[0m \u001b[0mopen_read_only\u001b[0m\u001b[0;34m(\u001b[0m\u001b[0mfilename\u001b[0m\u001b[0;34m)\u001b[0m\u001b[0;34m:\u001b[0m\u001b[0;34m\u001b[0m\u001b[0;34m\u001b[0m\u001b[0m\n\u001b[1;32m      4\u001b[0m   \"\"\"Open a file in read-only mode.\n\u001b[1;32m      5\u001b[0m \u001b[0;34m\u001b[0m\u001b[0m\n",
            "\u001b[0;31mNameError\u001b[0m: name 'contextlib' is not defined"
          ]
        }
      ]
    },
    {
      "cell_type": "markdown",
      "metadata": {
        "id": "IbuccjUY1ubj",
        "colab_type": "text"
      },
      "source": [
        "Nested content manager"
      ]
    },
    {
      "cell_type": "code",
      "metadata": {
        "id": "raPA8ynm1tcN",
        "colab_type": "code",
        "outputId": "e593b867-aa91-4d72-884e-9055d03633a5",
        "colab": {
          "base_uri": "https://localhost:8080/",
          "height": 244
        }
      },
      "source": [
        "# Use the \"stock('NVDA')\" context manager\n",
        "# and assign the result to the variable \"nvda\"\n",
        "with stock('NVDA') as nvda:\n",
        "  # Open 'NVDA.txt' for writing as f_out\n",
        "  with open('NVDA.txt', 'w') as f_out:\n",
        "    for _ in range(10):\n",
        "      value = nvda.price()\n",
        "      print('Logging ${:.2f} for NVDA'.format(value))\n",
        "      f_out.write('{:.2f}\\n'.format(value))"
      ],
      "execution_count": 0,
      "outputs": [
        {
          "output_type": "error",
          "ename": "NameError",
          "evalue": "ignored",
          "traceback": [
            "\u001b[0;31m---------------------------------------------------------------------------\u001b[0m",
            "\u001b[0;31mNameError\u001b[0m                                 Traceback (most recent call last)",
            "\u001b[0;32m<ipython-input-33-36cf9bcf61b8>\u001b[0m in \u001b[0;36m<module>\u001b[0;34m()\u001b[0m\n\u001b[1;32m      1\u001b[0m \u001b[0;31m# Use the \"stock('NVDA')\" context manager\u001b[0m\u001b[0;34m\u001b[0m\u001b[0;34m\u001b[0m\u001b[0;34m\u001b[0m\u001b[0m\n\u001b[1;32m      2\u001b[0m \u001b[0;31m# and assign the result to the variable \"nvda\"\u001b[0m\u001b[0;34m\u001b[0m\u001b[0;34m\u001b[0m\u001b[0;34m\u001b[0m\u001b[0m\n\u001b[0;32m----> 3\u001b[0;31m \u001b[0;32mwith\u001b[0m \u001b[0mstock\u001b[0m\u001b[0;34m(\u001b[0m\u001b[0;34m'NVDA'\u001b[0m\u001b[0;34m)\u001b[0m \u001b[0;32mas\u001b[0m \u001b[0mnvda\u001b[0m\u001b[0;34m:\u001b[0m\u001b[0;34m\u001b[0m\u001b[0;34m\u001b[0m\u001b[0m\n\u001b[0m\u001b[1;32m      4\u001b[0m   \u001b[0;31m# Open 'NVDA.txt' for writing as f_out\u001b[0m\u001b[0;34m\u001b[0m\u001b[0;34m\u001b[0m\u001b[0;34m\u001b[0m\u001b[0m\n\u001b[1;32m      5\u001b[0m   \u001b[0;32mwith\u001b[0m \u001b[0mopen\u001b[0m\u001b[0;34m(\u001b[0m\u001b[0;34m'NVDA.txt'\u001b[0m\u001b[0;34m,\u001b[0m \u001b[0;34m'w'\u001b[0m\u001b[0;34m)\u001b[0m \u001b[0;32mas\u001b[0m \u001b[0mf_out\u001b[0m\u001b[0;34m:\u001b[0m\u001b[0;34m\u001b[0m\u001b[0;34m\u001b[0m\u001b[0m\n",
            "\u001b[0;31mNameError\u001b[0m: name 'stock' is not defined"
          ]
        }
      ]
    },
    {
      "cell_type": "markdown",
      "metadata": {
        "id": "qLQ4W3ALd4P5",
        "colab_type": "text"
      },
      "source": [
        "Among other things closures helps to keep values of our function."
      ]
    },
    {
      "cell_type": "code",
      "metadata": {
        "id": "rLPXCNh2d9np",
        "colab_type": "code",
        "colab": {}
      },
      "source": [
        "def return_a_func(arg1, arg2):\n",
        "  def new_func():\n",
        "    print('arg1 was {}'.format(arg1))\n",
        "    print('arg2 was {}'.format(arg2))\n",
        "  return new_func\n",
        "    \n",
        "my_func = return_a_func(2, 17)\n",
        "\n",
        "print(my_func.__closure__ is not None)\n",
        "print(len(my_func.__closure__) == 2)\n",
        "\n",
        "# Get the values of the variables in the closure\n",
        "closure_values = [\n",
        "  my_func.__closure__[i].cell_contents for i in range(2)\n",
        "]\n",
        "print(closure_values == [2, 17])"
      ],
      "execution_count": 0,
      "outputs": []
    },
    {
      "cell_type": "code",
      "metadata": {
        "id": "1PPL3uG1jPju",
        "colab_type": "code",
        "colab": {}
      },
      "source": [
        "def my_special_function():\n",
        "  print('You are running my_special_function()')\n",
        "  \n",
        "def get_new_func(func):\n",
        "  def call_func():\n",
        "    func()\n",
        "  return call_func\n",
        "\n",
        "new_func = get_new_func(my_special_function)\n",
        "\n",
        "# Redefine my_special_function() to just print \"hello\"\n",
        "def my_special_function():\n",
        "  print(\"Hello\")\n",
        "\n",
        "new_func()"
      ],
      "execution_count": 0,
      "outputs": []
    },
    {
      "cell_type": "markdown",
      "metadata": {
        "id": "rKE654Jxj2Kd",
        "colab_type": "text"
      },
      "source": [
        "Function Decorators: A function decorator takes in another function as its argurment."
      ]
    },
    {
      "cell_type": "code",
      "metadata": {
        "id": "5CdDDlf6mpFG",
        "colab_type": "code",
        "outputId": "6570dab5-472d-4ea5-e9e0-623a7e304366",
        "colab": {
          "base_uri": "https://localhost:8080/",
          "height": 35
        }
      },
      "source": [
        "#A program to print arguements in a function\n",
        "def my_function(a, b, c):\n",
        "  print(a + b + c)\n",
        "\n",
        "def print_args(func):\n",
        "  def wrapp_arg(a,b,c):\n",
        "    d = a + b + c\n",
        "    print(\"{} was called with a ={},b ={},c ={},d ={}\".format((func.__name__),(a),(b),(c),(d)))\n",
        "  return wrapp_arg \n",
        "\n",
        "# Decorate my_function() with the print_args() decorator\n",
        "\n",
        "my_function = print_args(my_function)\n",
        "my_function(1, 2, 3)"
      ],
      "execution_count": 0,
      "outputs": [
        {
          "output_type": "stream",
          "text": [
            "my_function was called with a =1,b =2,c =3,d =6\n"
          ],
          "name": "stdout"
        }
      ]
    },
    {
      "cell_type": "markdown",
      "metadata": {
        "id": "0BdRx5tExBYh",
        "colab_type": "text"
      },
      "source": [
        "Calling the function using the defined decorator"
      ]
    },
    {
      "cell_type": "code",
      "metadata": {
        "id": "Semmo3YZpz6m",
        "colab_type": "code",
        "outputId": "c8b78543-018e-46a0-9db0-18efe7c372ca",
        "colab": {
          "base_uri": "https://localhost:8080/",
          "height": 35
        }
      },
      "source": [
        "@print_args\n",
        "def my_function(a, b, c):\n",
        "  return\n",
        "  \n",
        "\n",
        "my_function(13,2,3)"
      ],
      "execution_count": 0,
      "outputs": [
        {
          "output_type": "stream",
          "text": [
            "my_function was called with a =13,b =2,c =3,d =18\n"
          ],
          "name": "stdout"
        }
      ]
    },
    {
      "cell_type": "markdown",
      "metadata": {
        "id": "Dcj4NkqwNcoX",
        "colab_type": "text"
      },
      "source": [
        "A counter decorator...counts the number of times a function is called/used"
      ]
    },
    {
      "cell_type": "code",
      "metadata": {
        "id": "ypXEo_6AGWpg",
        "colab_type": "code",
        "colab": {}
      },
      "source": [
        "def counter(func):\n",
        "  def wrapper(*args, **kwargs):\n",
        "    wrapper.count += 1\n",
        "    # Call the function being decorated and return the result\n",
        "    return func\n",
        "  wrapper.count = 0\n",
        "  #print('{} was called {} times.'.format((func.__name__),(func.__name__.count)))\n",
        "  # Return the new decorated function\n",
        "  return wrapper\n",
        "\n",
        "# Decorate foo() with the counter() decorator\n",
        "@counter\n",
        "def foo():\n",
        "  print('calling foo()')\n",
        "  \n",
        "foo()\n",
        "foo()\n",
        "\n",
        "print('foo() was called {} times.'.format(foo.count))\n",
        "\n"
      ],
      "execution_count": 0,
      "outputs": []
    },
    {
      "cell_type": "markdown",
      "metadata": {
        "id": "kQhveOqNgJsO",
        "colab_type": "text"
      },
      "source": [
        "A timer decorator to check the execution time of functions"
      ]
    },
    {
      "cell_type": "code",
      "metadata": {
        "id": "0M-bRhfsHZpk",
        "colab_type": "code",
        "colab": {}
      },
      "source": [
        "import time\n",
        "# A timer decorator\n",
        "def timer(func):\n",
        "  def wrapper(*args,**kwargs):\n",
        "    t_start= time.time()\n",
        "    result = func(*args, **kwargs)\n",
        "    t_total= time.time() - t_start\n",
        "    print('{} function took {} sec'.format((func.__name__),(t_total)))\n",
        "    return result\n",
        "  return wrapper\n",
        "\n",
        "\n",
        "\n"
      ],
      "execution_count": 0,
      "outputs": []
    },
    {
      "cell_type": "code",
      "metadata": {
        "id": "J0NDswncLCD8",
        "colab_type": "code",
        "colab": {}
      },
      "source": [
        "@timer\n",
        "def add(a,b):\n",
        "  d = a + b\n",
        "  return d\n",
        "\n",
        "add(5,6,)\n",
        "  "
      ],
      "execution_count": 0,
      "outputs": []
    },
    {
      "cell_type": "markdown",
      "metadata": {
        "id": "NhQzwx1QL8QU",
        "colab_type": "text"
      },
      "source": [
        "Compare time taken running the function directly and using a decorator ."
      ]
    },
    {
      "cell_type": "code",
      "metadata": {
        "id": "3MmJ2NKvKTse",
        "colab_type": "code",
        "colab": {}
      },
      "source": [
        "def no_sum(a,b):\n",
        "  d = a + b\n",
        "  return d"
      ],
      "execution_count": 0,
      "outputs": []
    },
    {
      "cell_type": "code",
      "metadata": {
        "id": "v6vBDLgwGcXU",
        "colab_type": "code",
        "colab": {}
      },
      "source": [
        "t_start= time.time()\n",
        "d =no_sum(2,9)\n",
        "t_end = time.time()\n",
        "t_total=  t_end - t_start\n",
        "\n",
        "print('Answer :{}  time taken : {:.5f}s'.format((d),(t_total)))\n"
      ],
      "execution_count": 0,
      "outputs": []
    },
    {
      "cell_type": "markdown",
      "metadata": {
        "id": "y7PlUYgQcOM5",
        "colab_type": "text"
      },
      "source": [
        "A decorator that checks whether a returned function is a dictionary\n"
      ]
    },
    {
      "cell_type": "code",
      "metadata": {
        "id": "560XJwkncNpb",
        "colab_type": "code",
        "colab": {}
      },
      "source": [
        "def returns_dict(func):\n",
        "  # Complete the returns_dict() decorator\n",
        "  def wrapper(*args, **kwargs):\n",
        "    result = dict\n",
        "    assert(type(result) == dict)\n",
        "    return result\n",
        "  return wrapper\n",
        "  \n"
      ],
      "execution_count": 0,
      "outputs": []
    },
    {
      "cell_type": "code",
      "metadata": {
        "id": "bRDBD5LAcfbG",
        "colab_type": "code",
        "outputId": "80e54b0d-9c11-40a6-c0b8-d7d25b1edb7d",
        "colab": {
          "base_uri": "https://localhost:8080/",
          "height": 35
        }
      },
      "source": [
        "@returns_dict\n",
        "def data(value):\n",
        "  return value\n",
        "\n",
        "try:\n",
        "  a = [1,4,6]\n",
        "  print(data(a))\n",
        "except AssertionError:\n",
        "  print('{} did not return a dict!, it returned a:{}'.format((data.__name__),(type(a))))"
      ],
      "execution_count": 0,
      "outputs": [
        {
          "output_type": "stream",
          "text": [
            "wrapper did not return a dict!, it returned a:<class 'list'>\n"
          ],
          "name": "stdout"
        }
      ]
    },
    {
      "cell_type": "markdown",
      "metadata": {
        "id": "ILeBcjlm1Myn",
        "colab_type": "text"
      },
      "source": [
        "Geneators: A major difference a generator and a function the key word Yield present in a genrator."
      ]
    },
    {
      "cell_type": "code",
      "metadata": {
        "id": "mXSZDFUwdvAj",
        "colab_type": "code",
        "colab": {}
      },
      "source": [
        "lessons = [\"Why Python Programming\", \"Data Types and Operators\", \"Control Flow\", \"Functions\", \"Scripting\"]\n",
        "\n",
        "def my_enumerate(iterable, start=0):\n",
        "    count = start\n",
        "    for element in iterable:\n",
        "        yield count, element\n",
        "        count += 1\n",
        "\n",
        "for i, lesson in my_enumerate(lessons, 1):\n",
        "    print(\"Lesson {}: {}\".format(i, lesson))"
      ],
      "execution_count": 0,
      "outputs": []
    },
    {
      "cell_type": "markdown",
      "metadata": {
        "id": "m5-yoUG_4X-_",
        "colab_type": "text"
      },
      "source": [
        "Generators can actually be created in the same way you'd normally write a list comprehension, except with parentheses instead of square brackets."
      ]
    },
    {
      "cell_type": "code",
      "metadata": {
        "id": "X0BX-xR1ehmI",
        "colab_type": "code",
        "colab": {}
      },
      "source": [
        "sq_list = [x**2 for x in range(10)]  # this produces a list of squares\n",
        "\n",
        "sq_iterator = (x**2 for x in range(10))  # this produces an iterator of squares\n",
        "\n"
      ],
      "execution_count": 0,
      "outputs": []
    },
    {
      "cell_type": "code",
      "metadata": {
        "id": "wQQ0WwBRfczx",
        "colab_type": "code",
        "colab": {}
      },
      "source": [
        ""
      ],
      "execution_count": 0,
      "outputs": []
    }
  ]
}